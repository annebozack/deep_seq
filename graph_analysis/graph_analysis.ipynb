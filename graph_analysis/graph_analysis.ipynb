{
 "cells": [
  {
   "cell_type": "markdown",
   "metadata": {},
   "source": [
    "**Trying to make two graphviz visualization between array consistent at t0 and t60, bugkiller**"
   ]
  },
  {
   "cell_type": "code",
   "execution_count": 223,
   "metadata": {
    "collapsed": true
   },
   "outputs": [],
   "source": [
    "#import\n",
    "import numpy as np\n",
    "import matplotlib.pyplot as plt\n",
    "import re\n",
    "%matplotlib inline"
   ]
  },
  {
   "cell_type": "code",
   "execution_count": 205,
   "metadata": {
    "collapsed": false
   },
   "outputs": [],
   "source": [
    "#load files\n",
    "with open('array2/0_spid') as f:    \n",
    "    sp_0 = [x.strip('\\n').split(',') for x in f.readlines()]\n",
    "\n",
    "sp0_seq=[]\n",
    "sp0_id=[]\n",
    "for i in sp_0:\n",
    "    sp0_seq=np.append(sp0_seq,i[0].split(':')[1].split(' ')[1])\n",
    "    sp0_id=np.append(sp0_id,i[1].split(':')[1])\n",
    "    \n",
    "with open('array2/60_spid') as f:    \n",
    "    sp_60 = [x.strip('\\n').split(',') for x in f.readlines()]\n",
    "\n",
    "sp60_seq=[]\n",
    "sp60_id=[]\n",
    "for i in sp_60:\n",
    "    sp60_seq=np.append(sp60_seq,i[0].split(':')[1].split(' ')[1])\n",
    "    sp60_id=np.append(sp60_id,i[1].split(':')[1])"
   ]
  },
  {
   "cell_type": "code",
   "execution_count": 199,
   "metadata": {
    "collapsed": false
   },
   "outputs": [
    {
     "name": "stdout",
     "output_type": "stream",
     "text": [
      "sp0_unqiues: 49\n",
      "sp60_unqiues: 50\n",
      "note: all values are unique; no repeats\n",
      "uniques shared: 38\n"
     ]
    }
   ],
   "source": [
    "#basic stats on this array\n",
    "print 'sp0_unqiues: '+str(np.size(list(set(sp0_seq))))\n",
    "print 'sp60_unqiues: '+str(np.size(list(set(sp60_seq))))\n",
    "print 'note: all values are unique; no repeats'\n",
    "print 'uniques shared: '+str(np.count_nonzero(np.in1d(list(set(sp0_seq)), list(set(sp60_seq)))))"
   ]
  },
  {
   "cell_type": "code",
   "execution_count": 206,
   "metadata": {
    "collapsed": false
   },
   "outputs": [],
   "source": [
    "#reassign ids to new id array\n",
    "all_unique=np.asarray(list(set(np.append(sp0_seq, sp60_seq))))\n",
    "unique_id_array=[]\n",
    "for i in np.arange(np.size(all_unique)):\n",
    "    unique_id_array=np.append(unique_id_array,'sp'+str(i))\n",
    "\n",
    "#new id arrays\n",
    "sp0_id_new=[]\n",
    "sp60_id_new=[]\n",
    "\n",
    "for i in np.arange(np.size(sp0_seq)):\n",
    "    index=np.where(all_unique == sp0_seq[i] )[0][0]\n",
    "    sp0_id_new=np.append(sp0_id_new,unique_id_array[index])\n",
    "for i in np.arange(np.size(sp60_seq)):\n",
    "    index=np.where(all_unique == sp60_seq[i] )[0][0]\n",
    "    sp60_id_new=np.append(sp60_id_new,unique_id_array[index])"
   ]
  },
  {
   "cell_type": "code",
   "execution_count": 212,
   "metadata": {
    "collapsed": false
   },
   "outputs": [],
   "source": [
    "#rename id arrays(ONLY RUN ONCE)\n",
    "for i in np.arange(np.size(sp0_id)):\n",
    "    sp0_id[i]='sp_'+sp0_id[i].split('SP')[1].split(\"'\")[0]\n",
    "for i in np.arange(np.size(sp60_id)):\n",
    "    sp60_id[i]='sp_'+sp60_id[i].split('SP')[1].split(\"'\")[0]\n"
   ]
  },
  {
   "cell_type": "code",
   "execution_count": 236,
   "metadata": {
    "collapsed": false
   },
   "outputs": [],
   "source": [
    "#swap ids in bugkiller-0 array\n",
    "infile = open('array2/0_Spacers_1_ATTTCAATTCCATAAAGGTGCGATTAGAAC_spacers.gv')\n",
    "outfile = open ('array2/0_fix.gv','w')\n",
    "for line in infile:\n",
    "    for i in np.arange(np.size(sp0_id)):\n",
    "        line=re.sub(sp0_id[i]+\"(_\\d+_C\\d+)\",sp0_id_new[i],line)\n",
    "    outfile.write(line)\n",
    "infile.close()\n",
    "outfile.close()"
   ]
  },
  {
   "cell_type": "code",
   "execution_count": 237,
   "metadata": {
    "collapsed": false
   },
   "outputs": [],
   "source": [
    "#swap ids in bugkiller-60 array\n",
    "infile = open('array2/60_Spacers_1_ATTTCAATTCCATAAAGGTGCGATTAGAAC_spacers.gv')\n",
    "outfile = open ('array2/60_fix.gv','w')\n",
    "for line in infile:\n",
    "    for i in np.arange(np.size(sp60_id)):\n",
    "        line=re.sub(sp60_id[i]+\"(_\\d+_C\\d+)\",sp60_id_new[i],line)\n",
    "    outfile.write(line)\n",
    "infile.close()\n",
    "outfile.close()"
   ]
  }
 ],
 "metadata": {
  "kernelspec": {
   "display_name": "Python 2",
   "language": "python",
   "name": "python2"
  },
  "language_info": {
   "codemirror_mode": {
    "name": "ipython",
    "version": 2
   },
   "file_extension": ".py",
   "mimetype": "text/x-python",
   "name": "python",
   "nbconvert_exporter": "python",
   "pygments_lexer": "ipython2",
   "version": "2.7.10"
  }
 },
 "nbformat": 4,
 "nbformat_minor": 0
}
